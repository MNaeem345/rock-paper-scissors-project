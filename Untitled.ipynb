{
 "cells": [
  {
   "cell_type": "code",
   "execution_count": 1,
   "id": "01e1fc9f",
   "metadata": {},
   "outputs": [
    {
     "name": "stdout",
     "output_type": "stream",
     "text": [
      "Welcome to Rock Paper Scissors!! Would you like to play? Y/Ny\n",
      "Which would you like to choose? 'rock', 'paper', or 'scissors'?rock\n",
      "player:['rock']\n",
      "computer:['rock']\n",
      "Would you like to continue the game? Y/Nn\n"
     ]
    }
   ],
   "source": [
    "import random\n",
    "\n",
    "class Game():\n",
    "    def __init__(self, players):\n",
    "        self.players = players\n",
    "        self.player = []\n",
    "        self.computers = []\n",
    "    def chooseEntry(self):\n",
    "        ask = input(\"Which would you like to choose? 'rock', 'paper', or 'scissors'?\")\n",
    "        low = ask.lower()\n",
    "        add_list = self.player.append(low)\n",
    "    def random(self):\n",
    "        computer = random.choice(['rock','paper','scissors'])\n",
    "        add2_list = self.computers.append(computer)\n",
    "        print(f'player:{self.player}')\n",
    "        print(f'computer:{self.computers}')\n",
    "\n",
    "    def results(self):\n",
    "            if self.player == self.computers:\n",
    "                print(\"Its a tie!!\")\n",
    "            elif self.player == 'rock' and self.computers == \"scissors\":\n",
    "                print(\"You win!!\")\n",
    "            elif self.player == 'scissors' and self.computers == \"paper\":\n",
    "                print(\"You win!!\")\n",
    "            elif self.player == 'paper' and self.computers == \"rock\":\n",
    "                print(\"You win!!\")\n",
    "            elif self.computers == \"rock\" and self.player == 'scissors':\n",
    "                print(\"You lose!!\")\n",
    "            elif self.computers == \"scissors\" and self.player == 'paper':\n",
    "                print(\"You lose!!\")\n",
    "            else: \n",
    "                self.computers == \"paper\" and self.player == 'rock'\n",
    "                print(\"You lose!!\")\n",
    "    def newGame(self):\n",
    "        self.player.clear()\n",
    "        self.computers.clear()\n",
    "\n",
    "            \n",
    "rps_game = Game(1)       \n",
    "\n",
    "class run():\n",
    "    while True:\n",
    "        ask = input(\"Welcome to Rock Paper Scissors!! Would you like to play? Y/N\")\n",
    "        if ask.lower() == 'y':\n",
    "            rps_game.chooseEntry()\n",
    "            rps_game.random()\n",
    "            rps_game.results()\n",
    "            ask2 = input(\"Would you like to continue the game? Y/N\")\n",
    "            if ask2.lower() == 'n':\n",
    "                break\n",
    "            else:\n",
    "                if ask2.lower() == 'y':\n",
    "                    rps_game.newGame()\n",
    "        else:\n",
    "            break   \n",
    "        "
   ]
  },
  {
   "cell_type": "code",
   "execution_count": null,
   "id": "16b397af",
   "metadata": {},
   "outputs": [],
   "source": []
  },
  {
   "cell_type": "code",
   "execution_count": null,
   "id": "0e770bbf",
   "metadata": {},
   "outputs": [],
   "source": []
  }
 ],
 "metadata": {
  "kernelspec": {
   "display_name": "Python 3 (ipykernel)",
   "language": "python",
   "name": "python3"
  },
  "language_info": {
   "codemirror_mode": {
    "name": "ipython",
    "version": 3
   },
   "file_extension": ".py",
   "mimetype": "text/x-python",
   "name": "python",
   "nbconvert_exporter": "python",
   "pygments_lexer": "ipython3",
   "version": "3.9.7"
  }
 },
 "nbformat": 4,
 "nbformat_minor": 5
}
